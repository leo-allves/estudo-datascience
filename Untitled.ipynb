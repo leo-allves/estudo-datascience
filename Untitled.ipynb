{
 "cells": [
  {
   "cell_type": "markdown",
   "id": "4d92c6e2-c8d2-4b8d-85c6-760b75113d39",
   "metadata": {},
   "source": [
    "### Strings"
   ]
  },
  {
   "cell_type": "code",
   "execution_count": 2,
   "id": "d35a6a5c-b02f-4835-9ed4-ab7f94477fa9",
   "metadata": {},
   "outputs": [],
   "source": [
    "minha_string = \"hello\""
   ]
  },
  {
   "cell_type": "code",
   "execution_count": 4,
   "id": "349e9dbe-dec4-46e8-859b-cfe11905ecad",
   "metadata": {},
   "outputs": [
    {
     "data": {
      "text/plain": [
       "'hello'"
      ]
     },
     "execution_count": 4,
     "metadata": {},
     "output_type": "execute_result"
    }
   ],
   "source": [
    "minha_string"
   ]
  },
  {
   "cell_type": "code",
   "execution_count": 5,
   "id": "172b1297-79df-4409-ad6b-62c9b1224b55",
   "metadata": {},
   "outputs": [],
   "source": [
    "string2 = \"isto é uma string\""
   ]
  },
  {
   "cell_type": "code",
   "execution_count": 6,
   "id": "8592c164-2a19-476e-ac4f-ef2b70011bb4",
   "metadata": {},
   "outputs": [
    {
     "data": {
      "text/plain": [
       "'isto é uma string'"
      ]
     },
     "execution_count": 6,
     "metadata": {},
     "output_type": "execute_result"
    }
   ],
   "source": [
    "string2"
   ]
  },
  {
   "cell_type": "code",
   "execution_count": 8,
   "id": "1caec729-e2cf-4d13-adc2-930a02f0f7df",
   "metadata": {},
   "outputs": [],
   "source": [
    "string3 = \"isto é uma 'aspas' string\""
   ]
  },
  {
   "cell_type": "code",
   "execution_count": 9,
   "id": "b70a80a3-9d88-44fa-85f0-2481504bd344",
   "metadata": {},
   "outputs": [
    {
     "data": {
      "text/plain": [
       "\"isto é uma 'aspas' string\""
      ]
     },
     "execution_count": 9,
     "metadata": {},
     "output_type": "execute_result"
    }
   ],
   "source": [
    "string3"
   ]
  },
  {
   "cell_type": "code",
   "execution_count": 10,
   "id": "4a3ce5ed-0d20-4195-a01a-2badca102dea",
   "metadata": {},
   "outputs": [
    {
     "name": "stdout",
     "output_type": "stream",
     "text": [
      "isto é uma 'aspas' string\n"
     ]
    }
   ],
   "source": [
    "print(string3)"
   ]
  },
  {
   "cell_type": "code",
   "execution_count": 11,
   "id": "1c498393-c443-4e52-821b-23fc5e2c1392",
   "metadata": {},
   "outputs": [
    {
     "data": {
      "text/plain": [
       "25"
      ]
     },
     "execution_count": 11,
     "metadata": {},
     "output_type": "execute_result"
    }
   ],
   "source": [
    "len(string3)"
   ]
  },
  {
   "cell_type": "code",
   "execution_count": 15,
   "id": "7d13127b-787b-4c0b-a1d1-5661ab9b3699",
   "metadata": {},
   "outputs": [
    {
     "data": {
      "text/plain": [
       "\"isto é uma string isto é uma 'aspas' string\""
      ]
     },
     "execution_count": 15,
     "metadata": {},
     "output_type": "execute_result"
    }
   ],
   "source": [
    "string2 + \" \" + string3"
   ]
  },
  {
   "cell_type": "code",
   "execution_count": 16,
   "id": "bbb67576-317f-4e91-8d9b-16dfb5bda7b4",
   "metadata": {},
   "outputs": [
    {
     "data": {
      "text/plain": [
       "'is'"
      ]
     },
     "execution_count": 16,
     "metadata": {},
     "output_type": "execute_result"
    }
   ],
   "source": [
    "string2[:2]"
   ]
  },
  {
   "cell_type": "code",
   "execution_count": 17,
   "id": "6bccc4e6-2495-4011-b85b-dd7a7b404039",
   "metadata": {},
   "outputs": [
    {
     "data": {
      "text/plain": [
       "'sto é uma string'"
      ]
     },
     "execution_count": 17,
     "metadata": {},
     "output_type": "execute_result"
    }
   ],
   "source": [
    "string2[1:]    # range"
   ]
  },
  {
   "cell_type": "code",
   "execution_count": 18,
   "id": "7872baeb-516b-4989-8766-26d05f35ae8b",
   "metadata": {},
   "outputs": [
    {
     "data": {
      "text/plain": [
       "'sto '"
      ]
     },
     "execution_count": 18,
     "metadata": {},
     "output_type": "execute_result"
    }
   ],
   "source": [
    "string2[1:5] "
   ]
  },
  {
   "cell_type": "code",
   "execution_count": 19,
   "id": "418cbd28-98ad-42fa-9f41-07dd4785a34e",
   "metadata": {},
   "outputs": [
    {
     "data": {
      "text/plain": [
       "'n'"
      ]
     },
     "execution_count": 19,
     "metadata": {},
     "output_type": "execute_result"
    }
   ],
   "source": [
    "string2[-2] "
   ]
  },
  {
   "cell_type": "code",
   "execution_count": 20,
   "id": "ad571771-77cc-45bd-bcea-d82b07ce3e93",
   "metadata": {},
   "outputs": [
    {
     "data": {
      "text/plain": [
       "'isto é uma stri'"
      ]
     },
     "execution_count": 20,
     "metadata": {},
     "output_type": "execute_result"
    }
   ],
   "source": [
    "string2[:-2] "
   ]
  },
  {
   "cell_type": "code",
   "execution_count": 21,
   "id": "cc9e0b53-2d7f-419a-a4e3-fe0865727b91",
   "metadata": {},
   "outputs": [
    {
     "data": {
      "text/plain": [
       "'isto é uma string'"
      ]
     },
     "execution_count": 21,
     "metadata": {},
     "output_type": "execute_result"
    }
   ],
   "source": [
    "string2[::1] "
   ]
  },
  {
   "cell_type": "code",
   "execution_count": 22,
   "id": "60d4b59b-bf80-4eb0-9543-a4dbb74cdb3b",
   "metadata": {},
   "outputs": [
    {
     "data": {
      "text/plain": [
       "'it  m tig'"
      ]
     },
     "execution_count": 22,
     "metadata": {},
     "output_type": "execute_result"
    }
   ],
   "source": [
    "string2[::2] "
   ]
  },
  {
   "cell_type": "code",
   "execution_count": 23,
   "id": "39bea8f9-2e61-49de-8803-3a4b632f3195",
   "metadata": {},
   "outputs": [
    {
     "data": {
      "text/plain": [
       "'gnirts amu é otsi'"
      ]
     },
     "execution_count": 23,
     "metadata": {},
     "output_type": "execute_result"
    }
   ],
   "source": [
    "string2[::-1] "
   ]
  },
  {
   "cell_type": "code",
   "execution_count": null,
   "id": "82386de9-0516-44d9-a71c-b328a3a9b5fb",
   "metadata": {},
   "outputs": [],
   "source": []
  }
 ],
 "metadata": {
  "kernelspec": {
   "display_name": "Python 3 (ipykernel)",
   "language": "python",
   "name": "python3"
  },
  "language_info": {
   "codemirror_mode": {
    "name": "ipython",
    "version": 3
   },
   "file_extension": ".py",
   "mimetype": "text/x-python",
   "name": "python",
   "nbconvert_exporter": "python",
   "pygments_lexer": "ipython3",
   "version": "3.10.9"
  }
 },
 "nbformat": 4,
 "nbformat_minor": 5
}
