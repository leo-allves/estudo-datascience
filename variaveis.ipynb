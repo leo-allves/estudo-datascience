{
 "cells": [
  {
   "cell_type": "markdown",
   "id": "7c93cc00-28fb-4910-ad26-07bc2ef352c8",
   "metadata": {},
   "source": [
    "### Variáveis\n"
   ]
  },
  {
   "cell_type": "code",
   "execution_count": 1,
   "id": "4098123e-04ec-425b-91fb-3e98bf46f5c1",
   "metadata": {},
   "outputs": [],
   "source": [
    "a =  5"
   ]
  },
  {
   "cell_type": "code",
   "execution_count": 2,
   "id": "4f3edcba-8296-446d-b0a6-9ea6530832be",
   "metadata": {},
   "outputs": [
    {
     "data": {
      "text/plain": [
       "5"
      ]
     },
     "execution_count": 2,
     "metadata": {},
     "output_type": "execute_result"
    }
   ],
   "source": [
    "a"
   ]
  },
  {
   "cell_type": "code",
   "execution_count": null,
   "id": "c4791142-77ef-44c0-8dfe-0d86ea09e4d8",
   "metadata": {},
   "outputs": [],
   "source": []
  }
 ],
 "metadata": {
  "kernelspec": {
   "display_name": "Python 3 (ipykernel)",
   "language": "python",
   "name": "python3"
  },
  "language_info": {
   "codemirror_mode": {
    "name": "ipython",
    "version": 3
   },
   "file_extension": ".py",
   "mimetype": "text/x-python",
   "name": "python",
   "nbconvert_exporter": "python",
   "pygments_lexer": "ipython3",
   "version": "3.10.9"
  }
 },
 "nbformat": 4,
 "nbformat_minor": 5
}
