{
 "cells": [
  {
   "cell_type": "markdown",
   "id": "3d99bc86-edef-4bd3-af15-cf797f930727",
   "metadata": {},
   "source": [
    "#### Input(), Sets e Booleanos"
   ]
  },
  {
   "cell_type": "markdown",
   "id": "5eae4258-d9eb-4419-8494-1fbc466f86d3",
   "metadata": {},
   "source": [
    "- Input : Função nativa usada para capturar alguma informação solicitado para o usuario \n",
    "    - Normalmente usada para aprendizado, e coisas pequenas.\n",
    "    - Antigamente era mais usadas em programas de tela preta.\n",
    "    - Sempre que usarmos o **Input** o valor retornado será uma string"
   ]
  },
  {
   "cell_type": "code",
   "execution_count": 3,
   "id": "8debd8c6-1cd1-4c83-879a-b9b771c4f7b6",
   "metadata": {},
   "outputs": [
    {
     "name": "stdin",
     "output_type": "stream",
     "text": [
      " 123\n"
     ]
    }
   ],
   "source": [
    "a = input()   # retorna string"
   ]
  },
  {
   "cell_type": "code",
   "execution_count": 4,
   "id": "f6865438-b1c1-463a-9900-9551b0ed0afc",
   "metadata": {},
   "outputs": [
    {
     "data": {
      "text/plain": [
       "123"
      ]
     },
     "execution_count": 4,
     "metadata": {},
     "output_type": "execute_result"
    }
   ],
   "source": [
    "int(a)   # converte para inteiro"
   ]
  },
  {
   "cell_type": "code",
   "execution_count": 5,
   "id": "affa7435-6b0f-4114-ab5a-1051b999529d",
   "metadata": {},
   "outputs": [
    {
     "data": {
      "text/plain": [
       "123.0"
      ]
     },
     "execution_count": 5,
     "metadata": {},
     "output_type": "execute_result"
    }
   ],
   "source": [
    "float(a)   # converte para float"
   ]
  },
  {
   "cell_type": "markdown",
   "id": "1c5f06bc-b032-41d4-99ad-dd99c44c0f57",
   "metadata": {},
   "source": [
    "- Sets: São conjuntos da matemática \n",
    "    - A propiedade do conjunto é como uma lista só que o mesmo não se repete\n",
    "    - Ou seja se houver o memso valor duas vezes ele irá excluir a duplicidade e manter somente 1 \n",
    "    - Pode ser utilizado quando temos uma lista com muitos valores repetidos e usar os sets para dar uma limpada e ficar só com as entradas não repetidas"
   ]
  },
  {
   "cell_type": "code",
   "execution_count": 7,
   "id": "38b4adf8-4b59-46d9-84f8-351d60b0c405",
   "metadata": {},
   "outputs": [],
   "source": [
    "x = set()"
   ]
  },
  {
   "cell_type": "code",
   "execution_count": 8,
   "id": "958cc55e-7141-4322-8dfa-752b6f0fab7e",
   "metadata": {},
   "outputs": [
    {
     "data": {
      "text/plain": [
       "set()"
      ]
     },
     "execution_count": 8,
     "metadata": {},
     "output_type": "execute_result"
    }
   ],
   "source": [
    "x"
   ]
  },
  {
   "cell_type": "code",
   "execution_count": 10,
   "id": "192e941c-f3ea-4b9e-a274-5c50d142b490",
   "metadata": {},
   "outputs": [],
   "source": [
    "x.add(1)"
   ]
  },
  {
   "cell_type": "code",
   "execution_count": 11,
   "id": "21e023b0-6600-42dd-93ac-01b90b051e28",
   "metadata": {},
   "outputs": [
    {
     "data": {
      "text/plain": [
       "{1}"
      ]
     },
     "execution_count": 11,
     "metadata": {},
     "output_type": "execute_result"
    }
   ],
   "source": [
    "x"
   ]
  },
  {
   "cell_type": "code",
   "execution_count": 12,
   "id": "403466aa-a3f8-417c-8d82-5201b990b451",
   "metadata": {},
   "outputs": [],
   "source": [
    "x.add(2)"
   ]
  },
  {
   "cell_type": "code",
   "execution_count": 13,
   "id": "3f256ac2-834d-4e41-b7cf-f136fe40fb7f",
   "metadata": {},
   "outputs": [
    {
     "data": {
      "text/plain": [
       "{1, 2}"
      ]
     },
     "execution_count": 13,
     "metadata": {},
     "output_type": "execute_result"
    }
   ],
   "source": [
    "x"
   ]
  },
  {
   "cell_type": "code",
   "execution_count": 14,
   "id": "855c54d4-81b9-4a22-8bc5-cd43a4858b70",
   "metadata": {},
   "outputs": [],
   "source": [
    "x.add(4)"
   ]
  },
  {
   "cell_type": "code",
   "execution_count": 15,
   "id": "893f70cd-c361-4f28-a0fb-0dea44d836f9",
   "metadata": {},
   "outputs": [
    {
     "data": {
      "text/plain": [
       "{1, 2, 4}"
      ]
     },
     "execution_count": 15,
     "metadata": {},
     "output_type": "execute_result"
    }
   ],
   "source": [
    "x"
   ]
  },
  {
   "cell_type": "code",
   "execution_count": 16,
   "id": "ae2eec48-6ba8-465a-8372-d014e203aedb",
   "metadata": {},
   "outputs": [],
   "source": [
    "x.add(3)"
   ]
  },
  {
   "cell_type": "code",
   "execution_count": 17,
   "id": "7e244d12-ea74-4999-aed0-2d8e39043f0a",
   "metadata": {},
   "outputs": [
    {
     "data": {
      "text/plain": [
       "{1, 2, 3, 4}"
      ]
     },
     "execution_count": 17,
     "metadata": {},
     "output_type": "execute_result"
    }
   ],
   "source": [
    "x"
   ]
  },
  {
   "cell_type": "code",
   "execution_count": 24,
   "id": "ab9d1a06-b881-4562-bc68-972aed7fca1e",
   "metadata": {},
   "outputs": [],
   "source": [
    "l = [1,2,3,4,4,4,5,5,5]"
   ]
  },
  {
   "cell_type": "code",
   "execution_count": 27,
   "id": "fd5be348-8cc7-42ed-802c-e5c8f909326a",
   "metadata": {},
   "outputs": [
    {
     "data": {
      "text/plain": [
       "{1, 2, 3, 4, 5}"
      ]
     },
     "execution_count": 27,
     "metadata": {},
     "output_type": "execute_result"
    }
   ],
   "source": [
    "set(l)"
   ]
  },
  {
   "cell_type": "code",
   "execution_count": 28,
   "id": "79b96de3-19ee-4483-a5e6-79af34c31a5f",
   "metadata": {},
   "outputs": [],
   "source": [
    "l1 = set(l)"
   ]
  },
  {
   "cell_type": "code",
   "execution_count": 29,
   "id": "79d7b43a-8c6d-4e9a-990e-2322e594d1de",
   "metadata": {},
   "outputs": [
    {
     "data": {
      "text/plain": [
       "{1, 2, 3, 4, 5}"
      ]
     },
     "execution_count": 29,
     "metadata": {},
     "output_type": "execute_result"
    }
   ],
   "source": [
    "l1"
   ]
  },
  {
   "cell_type": "code",
   "execution_count": 30,
   "id": "b258a7a1-3a34-45bc-aaa4-64025f95d566",
   "metadata": {},
   "outputs": [
    {
     "data": {
      "text/plain": [
       "{1, 2, 3, 4}"
      ]
     },
     "execution_count": 30,
     "metadata": {},
     "output_type": "execute_result"
    }
   ],
   "source": [
    "x"
   ]
  },
  {
   "cell_type": "code",
   "execution_count": 34,
   "id": "47bd84c4-782e-4881-9908-ecc73061bb9d",
   "metadata": {},
   "outputs": [
    {
     "data": {
      "text/plain": [
       "{1, 2, 3, 4, 5}"
      ]
     },
     "execution_count": 34,
     "metadata": {},
     "output_type": "execute_result"
    }
   ],
   "source": [
    "x.union(l1)  # união entre o grupo x e l1"
   ]
  },
  {
   "cell_type": "code",
   "execution_count": 36,
   "id": "eabe0545-c3c4-4fc8-a2ef-da9b013598dd",
   "metadata": {},
   "outputs": [
    {
     "data": {
      "text/plain": [
       "{1, 2, 3, 4}"
      ]
     },
     "execution_count": 36,
     "metadata": {},
     "output_type": "execute_result"
    }
   ],
   "source": [
    "x.intersection(l1)  # intersecção o que contem em ambos grupos"
   ]
  },
  {
   "cell_type": "code",
   "execution_count": 37,
   "id": "1bc646b7-028e-437c-8097-7502f7a5a4e1",
   "metadata": {},
   "outputs": [
    {
     "data": {
      "text/plain": [
       "['__and__',\n",
       " '__class__',\n",
       " '__class_getitem__',\n",
       " '__contains__',\n",
       " '__delattr__',\n",
       " '__dir__',\n",
       " '__doc__',\n",
       " '__eq__',\n",
       " '__format__',\n",
       " '__ge__',\n",
       " '__getattribute__',\n",
       " '__gt__',\n",
       " '__hash__',\n",
       " '__iand__',\n",
       " '__init__',\n",
       " '__init_subclass__',\n",
       " '__ior__',\n",
       " '__isub__',\n",
       " '__iter__',\n",
       " '__ixor__',\n",
       " '__le__',\n",
       " '__len__',\n",
       " '__lt__',\n",
       " '__ne__',\n",
       " '__new__',\n",
       " '__or__',\n",
       " '__rand__',\n",
       " '__reduce__',\n",
       " '__reduce_ex__',\n",
       " '__repr__',\n",
       " '__ror__',\n",
       " '__rsub__',\n",
       " '__rxor__',\n",
       " '__setattr__',\n",
       " '__sizeof__',\n",
       " '__str__',\n",
       " '__sub__',\n",
       " '__subclasshook__',\n",
       " '__xor__',\n",
       " 'add',\n",
       " 'clear',\n",
       " 'copy',\n",
       " 'difference',\n",
       " 'difference_update',\n",
       " 'discard',\n",
       " 'intersection',\n",
       " 'intersection_update',\n",
       " 'isdisjoint',\n",
       " 'issubset',\n",
       " 'issuperset',\n",
       " 'pop',\n",
       " 'remove',\n",
       " 'symmetric_difference',\n",
       " 'symmetric_difference_update',\n",
       " 'union',\n",
       " 'update']"
      ]
     },
     "execution_count": 37,
     "metadata": {},
     "output_type": "execute_result"
    }
   ],
   "source": [
    "dir(l1)"
   ]
  },
  {
   "cell_type": "markdown",
   "id": "2037ba35-2d33-47f9-ab7d-fccfb505505f",
   "metadata": {},
   "source": [
    "#### Booleanos"
   ]
  },
  {
   "cell_type": "code",
   "execution_count": 38,
   "id": "f443afe5-d58b-414e-a04d-ec01b6861731",
   "metadata": {},
   "outputs": [],
   "source": [
    "a = True"
   ]
  },
  {
   "cell_type": "code",
   "execution_count": 39,
   "id": "6113be03-e465-4e72-bdbc-1d5437b2d45f",
   "metadata": {},
   "outputs": [
    {
     "data": {
      "text/plain": [
       "True"
      ]
     },
     "execution_count": 39,
     "metadata": {},
     "output_type": "execute_result"
    }
   ],
   "source": [
    "a"
   ]
  },
  {
   "cell_type": "code",
   "execution_count": 41,
   "id": "fc1750b3-55f9-4790-bdb5-3a3749fb1bf2",
   "metadata": {},
   "outputs": [
    {
     "data": {
      "text/plain": [
       "False"
      ]
     },
     "execution_count": 41,
     "metadata": {},
     "output_type": "execute_result"
    }
   ],
   "source": [
    "a != True"
   ]
  },
  {
   "cell_type": "code",
   "execution_count": 2,
   "id": "cd466eae-7614-41c4-8ecc-289bf063e7fd",
   "metadata": {},
   "outputs": [],
   "source": [
    "b = False"
   ]
  },
  {
   "cell_type": "code",
   "execution_count": 3,
   "id": "99241e78-19cb-4e17-a1db-dca6e3a14a09",
   "metadata": {},
   "outputs": [
    {
     "data": {
      "text/plain": [
       "False"
      ]
     },
     "execution_count": 3,
     "metadata": {},
     "output_type": "execute_result"
    }
   ],
   "source": [
    "b"
   ]
  }
 ],
 "metadata": {
  "kernelspec": {
   "display_name": "Python 3 (ipykernel)",
   "language": "python",
   "name": "python3"
  },
  "language_info": {
   "codemirror_mode": {
    "name": "ipython",
    "version": 3
   },
   "file_extension": ".py",
   "mimetype": "text/x-python",
   "name": "python",
   "nbconvert_exporter": "python",
   "pygments_lexer": "ipython3",
   "version": "3.10.9"
  }
 },
 "nbformat": 4,
 "nbformat_minor": 5
}
