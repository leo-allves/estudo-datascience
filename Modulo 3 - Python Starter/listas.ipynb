{
 "cells": [
  {
   "cell_type": "markdown",
   "id": "237eea0c-a838-4714-aa13-a4b18508d415",
   "metadata": {},
   "source": [
    "### LISTAS"
   ]
  },
  {
   "cell_type": "markdown",
   "id": "952b99d1-8909-49a3-832a-dcc7955ca80f",
   "metadata": {},
   "source": [
    "<p>Caixa com varios valore e podemos adicionar qualquer tipo de dados</p>"
   ]
  },
  {
   "cell_type": "code",
   "execution_count": 2,
   "id": "68fdc2e4-5e10-47fc-8e05-66ff5381abcf",
   "metadata": {},
   "outputs": [],
   "source": [
    "lista = [1, 2, 3]"
   ]
  },
  {
   "cell_type": "code",
   "execution_count": 3,
   "id": "a99cbd7a-5207-456d-b9a6-d313a372c2ff",
   "metadata": {},
   "outputs": [
    {
     "data": {
      "text/plain": [
       "[1, 2, 3]"
      ]
     },
     "execution_count": 3,
     "metadata": {},
     "output_type": "execute_result"
    }
   ],
   "source": [
    "lista"
   ]
  },
  {
   "cell_type": "code",
   "execution_count": 4,
   "id": "db31f698-0214-40d4-b1dd-dd369a8d8d77",
   "metadata": {},
   "outputs": [
    {
     "data": {
      "text/plain": [
       "list"
      ]
     },
     "execution_count": 4,
     "metadata": {},
     "output_type": "execute_result"
    }
   ],
   "source": [
    "type(lista)"
   ]
  },
  {
   "cell_type": "code",
   "execution_count": 5,
   "id": "ef3f4526-6ccd-4ea4-8e81-2e51d74e686a",
   "metadata": {},
   "outputs": [
    {
     "data": {
      "text/plain": [
       "3"
      ]
     },
     "execution_count": 5,
     "metadata": {},
     "output_type": "execute_result"
    }
   ],
   "source": [
    "lista[-1]"
   ]
  },
  {
   "cell_type": "code",
   "execution_count": 6,
   "id": "a4e1a4c5-8ca0-41bc-afe6-c39f409d1438",
   "metadata": {},
   "outputs": [
    {
     "data": {
      "text/plain": [
       "1"
      ]
     },
     "execution_count": 6,
     "metadata": {},
     "output_type": "execute_result"
    }
   ],
   "source": [
    "lista[-0]"
   ]
  },
  {
   "cell_type": "code",
   "execution_count": 7,
   "id": "cdfa175f-7726-4464-8a6d-119452f9deea",
   "metadata": {},
   "outputs": [
    {
     "data": {
      "text/plain": [
       "[2, 3]"
      ]
     },
     "execution_count": 7,
     "metadata": {},
     "output_type": "execute_result"
    }
   ],
   "source": [
    "lista[1:]"
   ]
  },
  {
   "cell_type": "code",
   "execution_count": 9,
   "id": "2a100dcb-7a02-4cae-a772-8ea0f6512fb6",
   "metadata": {},
   "outputs": [
    {
     "data": {
      "text/plain": [
       "[2]"
      ]
     },
     "execution_count": 9,
     "metadata": {},
     "output_type": "execute_result"
    }
   ],
   "source": [
    "lista[1:-1]"
   ]
  },
  {
   "cell_type": "code",
   "execution_count": 36,
   "id": "f6f74978-cd4d-479c-9cc7-6df9a061811a",
   "metadata": {},
   "outputs": [],
   "source": [
    "lista = [\n",
    "            [1, 2, 3], \n",
    "            [\"Marcos\", \"Fernando\", 4], \n",
    "            [\"Eu estou aqui\", \"Onde está vocês\"]\n",
    "        ]"
   ]
  },
  {
   "cell_type": "code",
   "execution_count": 37,
   "id": "2ed67001-f32e-4707-a324-3488c6c9c804",
   "metadata": {},
   "outputs": [
    {
     "data": {
      "text/plain": [
       "[[1, 2, 3], ['Marcos', 'Fernando', 4], ['Eu estou aqui', 'Onde está vocês']]"
      ]
     },
     "execution_count": 37,
     "metadata": {},
     "output_type": "execute_result"
    }
   ],
   "source": [
    "lista"
   ]
  },
  {
   "cell_type": "code",
   "execution_count": 56,
   "id": "a5a240b5-1850-4a20-b738-08b29be2589c",
   "metadata": {},
   "outputs": [
    {
     "data": {
      "text/plain": [
       "4"
      ]
     },
     "execution_count": 56,
     "metadata": {},
     "output_type": "execute_result"
    }
   ],
   "source": [
    "lista[1][2]"
   ]
  },
  {
   "cell_type": "markdown",
   "id": "84d34c2c-d008-43d6-af38-d0be3e13aae2",
   "metadata": {},
   "source": [
    "##### Métodos básicos de listas"
   ]
  },
  {
   "cell_type": "code",
   "execution_count": 58,
   "id": "1328a768-01a2-4763-9589-5da0c40d8bae",
   "metadata": {},
   "outputs": [],
   "source": [
    "l = [1, 2, 3]"
   ]
  },
  {
   "cell_type": "code",
   "execution_count": 59,
   "id": "0788643f-f0c6-45e7-8891-1c74c56be7d0",
   "metadata": {},
   "outputs": [],
   "source": [
    "l.append(\"4\")"
   ]
  },
  {
   "cell_type": "code",
   "execution_count": 60,
   "id": "6b0c3e93-8bb3-4a40-9167-c3e85ab07de6",
   "metadata": {},
   "outputs": [
    {
     "data": {
      "text/plain": [
       "[1, 2, 3, '4']"
      ]
     },
     "execution_count": 60,
     "metadata": {},
     "output_type": "execute_result"
    }
   ],
   "source": [
    "l"
   ]
  },
  {
   "cell_type": "code",
   "execution_count": 62,
   "id": "78560bfa-0eff-4110-9755-5437c6964f4e",
   "metadata": {},
   "outputs": [
    {
     "data": {
      "text/plain": [
       "'4'"
      ]
     },
     "execution_count": 62,
     "metadata": {},
     "output_type": "execute_result"
    }
   ],
   "source": [
    "l.pop()"
   ]
  },
  {
   "cell_type": "code",
   "execution_count": 63,
   "id": "3d69b94f-7e3c-44e8-91a1-4e0ff2b79310",
   "metadata": {},
   "outputs": [
    {
     "data": {
      "text/plain": [
       "[1, 2, 3]"
      ]
     },
     "execution_count": 63,
     "metadata": {},
     "output_type": "execute_result"
    }
   ],
   "source": [
    "l"
   ]
  },
  {
   "cell_type": "code",
   "execution_count": 64,
   "id": "d6d2b635-24b3-416b-bc77-8dfa4e61525a",
   "metadata": {},
   "outputs": [],
   "source": [
    "new_list = [\"a\", \"b\", \"c\", \"d\"]"
   ]
  },
  {
   "cell_type": "code",
   "execution_count": 65,
   "id": "23e5a907-fe69-4281-bb95-8f37b15aa765",
   "metadata": {},
   "outputs": [
    {
     "data": {
      "text/plain": [
       "['a', 'b', 'c', 'd']"
      ]
     },
     "execution_count": 65,
     "metadata": {},
     "output_type": "execute_result"
    }
   ],
   "source": [
    "new_list"
   ]
  },
  {
   "cell_type": "code",
   "execution_count": 66,
   "id": "7c0be32b-dac0-48ec-b1ce-e50b35d1bbca",
   "metadata": {},
   "outputs": [],
   "source": [
    "new_list.sort()"
   ]
  },
  {
   "cell_type": "code",
   "execution_count": 67,
   "id": "ccf9992e-6aca-4225-8df8-6c8a42831577",
   "metadata": {},
   "outputs": [
    {
     "data": {
      "text/plain": [
       "['a', 'b', 'c', 'd']"
      ]
     },
     "execution_count": 67,
     "metadata": {},
     "output_type": "execute_result"
    }
   ],
   "source": [
    "new_list"
   ]
  },
  {
   "cell_type": "code",
   "execution_count": 68,
   "id": "d8826509-191d-4efd-b30e-418b6133853b",
   "metadata": {},
   "outputs": [],
   "source": [
    "new_list.reverse()"
   ]
  },
  {
   "cell_type": "code",
   "execution_count": 69,
   "id": "1f57be20-470c-4df6-8ab3-e62129d30cf3",
   "metadata": {},
   "outputs": [
    {
     "data": {
      "text/plain": [
       "['d', 'c', 'b', 'a']"
      ]
     },
     "execution_count": 69,
     "metadata": {},
     "output_type": "execute_result"
    }
   ],
   "source": [
    "new_list"
   ]
  },
  {
   "cell_type": "markdown",
   "id": "e907512b-1b65-4228-800b-81fec5daf040",
   "metadata": {},
   "source": [
    "#### LISTAS ANINHADAS"
   ]
  },
  {
   "cell_type": "code",
   "execution_count": 72,
   "id": "81673023-7a74-45e2-bcee-deb8e5bda825",
   "metadata": {},
   "outputs": [],
   "source": [
    "list1 = [1, 2, 3]\n",
    "list2 = [4, 5, 6]\n",
    "list3 = [7, 8, 9]"
   ]
  },
  {
   "cell_type": "code",
   "execution_count": 73,
   "id": "0abd5256-29bc-411b-8c0d-fd6e9a05a4ef",
   "metadata": {},
   "outputs": [],
   "source": [
    "list4 = [list1, list2, list3]"
   ]
  },
  {
   "cell_type": "code",
   "execution_count": 74,
   "id": "a5bcfa21-c8e7-4d31-a907-8cc552a200c9",
   "metadata": {},
   "outputs": [
    {
     "data": {
      "text/plain": [
       "[[1, 2, 3], [4, 5, 6], [7, 8, 9]]"
      ]
     },
     "execution_count": 74,
     "metadata": {},
     "output_type": "execute_result"
    }
   ],
   "source": [
    "list4"
   ]
  },
  {
   "cell_type": "code",
   "execution_count": 75,
   "id": "15c7aee0-657d-4450-8262-cf53c29399bb",
   "metadata": {},
   "outputs": [
    {
     "data": {
      "text/plain": [
       "2"
      ]
     },
     "execution_count": 75,
     "metadata": {},
     "output_type": "execute_result"
    }
   ],
   "source": [
    "list4[0][1]"
   ]
  },
  {
   "cell_type": "code",
   "execution_count": null,
   "id": "140980f6-880a-44cc-949e-672e91afe967",
   "metadata": {},
   "outputs": [],
   "source": []
  }
 ],
 "metadata": {
  "kernelspec": {
   "display_name": "Python 3 (ipykernel)",
   "language": "python",
   "name": "python3"
  },
  "language_info": {
   "codemirror_mode": {
    "name": "ipython",
    "version": 3
   },
   "file_extension": ".py",
   "mimetype": "text/x-python",
   "name": "python",
   "nbconvert_exporter": "python",
   "pygments_lexer": "ipython3",
   "version": "3.10.9"
  }
 },
 "nbformat": 4,
 "nbformat_minor": 5
}
