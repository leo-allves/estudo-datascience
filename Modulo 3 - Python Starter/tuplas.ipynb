{
 "cells": [
  {
   "cell_type": "markdown",
   "id": "f46f3bbc-1d53-4050-89d6-541ddcb06681",
   "metadata": {},
   "source": [
    "#### Tuplas"
   ]
  },
  {
   "cell_type": "markdown",
   "id": "069a875d-2684-49bc-a3e6-b84c3e018616",
   "metadata": {},
   "source": [
    "- Parece muito com uma lista e tem as mesmas propiedades\n",
    "- Diferença que os elementos de uma tupla, não são mutaveis\n",
    "- Ou seja uma vez construida uma tupla eu não posso alterar o valor dela\n",
    "- A tupla não mais tão utilizada nos dias de hoje, já foi mais utilizada em algumas aplicações que fazia mais sentido\n",
    "\n",
    "OBS: Tuplas faz centido quando usamos desmembramento de tupla em funções, ou seja posso definir 1 ou mais variaveis a partir de uma tupla.\n",
    "\n",
    "a, b = (1, 2)\n"
   ]
  },
  {
   "cell_type": "code",
   "execution_count": 5,
   "id": "a4cc5bfd-f034-4683-b214-83c14ecd4040",
   "metadata": {},
   "outputs": [],
   "source": [
    "t = (1, 2, 3)"
   ]
  },
  {
   "cell_type": "code",
   "execution_count": 3,
   "id": "1b79994e-c524-4763-91b3-65726361645b",
   "metadata": {},
   "outputs": [
    {
     "data": {
      "text/plain": [
       "(1, 2, 3)"
      ]
     },
     "execution_count": 3,
     "metadata": {},
     "output_type": "execute_result"
    }
   ],
   "source": [
    "t"
   ]
  },
  {
   "cell_type": "code",
   "execution_count": 4,
   "id": "84fea860-277d-43b5-b448-90a984f94773",
   "metadata": {},
   "outputs": [
    {
     "data": {
      "text/plain": [
       "(1, 2)"
      ]
     },
     "execution_count": 4,
     "metadata": {},
     "output_type": "execute_result"
    }
   ],
   "source": [
    "t[:-1]"
   ]
  },
  {
   "cell_type": "code",
   "execution_count": 6,
   "id": "ef261188-5dae-4cf3-aa3c-39447ea2877e",
   "metadata": {},
   "outputs": [],
   "source": [
    "a, b = (1, 2)"
   ]
  },
  {
   "cell_type": "code",
   "execution_count": 7,
   "id": "2cebc5c8-c87d-46e7-a88c-7120e1009600",
   "metadata": {},
   "outputs": [
    {
     "data": {
      "text/plain": [
       "1"
      ]
     },
     "execution_count": 7,
     "metadata": {},
     "output_type": "execute_result"
    }
   ],
   "source": [
    "a"
   ]
  },
  {
   "cell_type": "code",
   "execution_count": 8,
   "id": "37f3673a-e20e-4ce3-8c2f-073db9028e73",
   "metadata": {},
   "outputs": [
    {
     "data": {
      "text/plain": [
       "(1, 2)"
      ]
     },
     "execution_count": 8,
     "metadata": {},
     "output_type": "execute_result"
    }
   ],
   "source": [
    "a, b"
   ]
  },
  {
   "cell_type": "code",
   "execution_count": null,
   "id": "ce3c6466-b1b6-4021-b816-dbb154305975",
   "metadata": {},
   "outputs": [],
   "source": []
  }
 ],
 "metadata": {
  "kernelspec": {
   "display_name": "Python 3 (ipykernel)",
   "language": "python",
   "name": "python3"
  },
  "language_info": {
   "codemirror_mode": {
    "name": "ipython",
    "version": 3
   },
   "file_extension": ".py",
   "mimetype": "text/x-python",
   "name": "python",
   "nbconvert_exporter": "python",
   "pygments_lexer": "ipython3",
   "version": "3.10.9"
  }
 },
 "nbformat": 4,
 "nbformat_minor": 5
}
