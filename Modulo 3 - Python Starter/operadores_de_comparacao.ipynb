{
 "cells": [
  {
   "cell_type": "markdown",
   "id": "0d16a28a-1f33-41bc-8b0c-a403148ab498",
   "metadata": {},
   "source": [
    "#### Operadores de comparação"
   ]
  },
  {
   "cell_type": "markdown",
   "id": "36950e17-8e5b-4809-8a6a-36ddfae1f8f6",
   "metadata": {},
   "source": [
    "-------------------------\n",
    "\n",
    "\"Nesta aula estaremos aprendendo sobre Operadores de Comparação em Python.\" \n",
    "\"Os operadores nos permitirão comparar variáveis e produzir um valor booleano **Verdadeiro ou**\"\n",
    "\"Falso**\"\n",
    "\n",
    "Se você tiver alguma base em Matemática, esses operadores devem ser muito diretos.\n",
    "\n",
    "Em primeiro lugar, apresentaremos uma tabela dos operadores de comparação e depois\n",
    "trabalharemos com alguns exemplos:\n",
    "\n",
    "--------------------\n",
    "    \n",
    "#### Tabela de operadores de comparação\n",
    "\n",
    "-------------------------------\n",
    "Operador             Descrição                                 Exemplo\n",
    "\n",
    "==           Se os valores de dois operandos forem\n",
    "             iguais, a condição torna-se verdadeira.           (a == b) não é verdade.\n",
    "    \n",
    "!=           Se valores de dois operandos não forem\n",
    "             iguais, a condição torna-se verdadeira.           (a != b) é verdadeiro\n",
    "    \n",
    "<>           Se os valores de dois operandos não forem\n",
    "             iguais, a condição torna-se verdadeira.           (a <> b) é verdadeiro. Isso é semelhante ao\n",
    "                                                               operador !=.\n",
    "        \n",
    "(>)          Se o valor do operando esquerdo for maior\n",
    "             que o valor do operando direito, a condição\n",
    "             torna-se verdadeira                               (a > b) não é verdadeiro.\n",
    "        \n",
    "<            Se o valor do operando esquerdo for inferior\n",
    "             ao valor do operando direito, a condição\n",
    "             torna-se verdadeira.                              (a < b) é verdadeiro.\n",
    "        \n",
    "(>=)           Se o valor do operando esquerdo for maior\n",
    "             ou igual ao valor do operando direito, a\n",
    "             condição torna-se verdadeira.                      (a >= b) não é verdadeiro.\n",
    "        \n",
    "<=           Se o valor do operando esquerdo for menor\n",
    "             ou igual ao valor do operando direito, a\n",
    "             condição torna-se verdadeira.                      (a <= b) é verdadeiro\n",
    "        \n",
    "Vamos agora trabalhar com exemplos rápidos de cada um desses.\n",
    "\n",
    "\n",
    "-----------------------"
   ]
  },
  {
   "cell_type": "markdown",
   "id": "d6c58fc8-7575-457a-b12d-39be1bd7a9fd",
   "metadata": {},
   "source": [
    "#### Igualdade"
   ]
  },
  {
   "cell_type": "code",
   "execution_count": null,
   "id": "3cd5ac0e-f88f-4021-ad39-4fac4f60eb4c",
   "metadata": {},
   "outputs": [],
   "source": [
    "a = 1   # Variavel a"
   ]
  },
  {
   "cell_type": "code",
   "execution_count": 4,
   "id": "a69bdb24-2ea8-481d-9cf8-53d0f6ab9c7e",
   "metadata": {},
   "outputs": [
    {
     "data": {
      "text/plain": [
       "True"
      ]
     },
     "execution_count": 4,
     "metadata": {},
     "output_type": "execute_result"
    }
   ],
   "source": [
    "2 == 2   # operador d ecomparação"
   ]
  },
  {
   "cell_type": "code",
   "execution_count": 2,
   "id": "2f24f757-d67e-4c7c-83f2-21d79e6917eb",
   "metadata": {},
   "outputs": [
    {
     "data": {
      "text/plain": [
       "False"
      ]
     },
     "execution_count": 2,
     "metadata": {},
     "output_type": "execute_result"
    }
   ],
   "source": [
    "1 == 0"
   ]
  },
  {
   "cell_type": "code",
   "execution_count": 5,
   "id": "404e76ab-6534-4622-acc6-426f5d7e7212",
   "metadata": {},
   "outputs": [
    {
     "data": {
      "text/plain": [
       "True"
      ]
     },
     "execution_count": 5,
     "metadata": {},
     "output_type": "execute_result"
    }
   ],
   "source": [
    "\"strings\" == \"strings\""
   ]
  },
  {
   "cell_type": "markdown",
   "id": "71efec56-81d7-4fb8-89ad-9c1b48ad25cc",
   "metadata": {},
   "source": [
    "#### Desigualdade"
   ]
  },
  {
   "cell_type": "code",
   "execution_count": 3,
   "id": "dce5cab7-5073-43fe-b845-f8c320b9e40d",
   "metadata": {},
   "outputs": [
    {
     "data": {
      "text/plain": [
       "True"
      ]
     },
     "execution_count": 3,
     "metadata": {},
     "output_type": "execute_result"
    }
   ],
   "source": [
    "2 != 1"
   ]
  },
  {
   "cell_type": "code",
   "execution_count": 6,
   "id": "77898b80-910f-4541-93f8-56810e008844",
   "metadata": {},
   "outputs": [
    {
     "data": {
      "text/plain": [
       "False"
      ]
     },
     "execution_count": 6,
     "metadata": {},
     "output_type": "execute_result"
    }
   ],
   "source": [
    "2 != 2"
   ]
  },
  {
   "cell_type": "code",
   "execution_count": 9,
   "id": "5654b004-b6f9-4b89-bdf6-55126bdce5d7",
   "metadata": {},
   "outputs": [
    {
     "data": {
      "text/plain": [
       "False"
      ]
     },
     "execution_count": 9,
     "metadata": {},
     "output_type": "execute_result"
    }
   ],
   "source": [
    "2 < 1"
   ]
  },
  {
   "cell_type": "code",
   "execution_count": 10,
   "id": "158b5d09-c77f-4aa9-aa65-f44e3a3ae02f",
   "metadata": {},
   "outputs": [
    {
     "data": {
      "text/plain": [
       "True"
      ]
     },
     "execution_count": 10,
     "metadata": {},
     "output_type": "execute_result"
    }
   ],
   "source": [
    "2 > 1"
   ]
  },
  {
   "cell_type": "markdown",
   "id": "7d563dff-6466-4b06-9ec9-c756ff868e23",
   "metadata": {},
   "source": [
    "#### Maior ou igual que"
   ]
  },
  {
   "cell_type": "code",
   "execution_count": 12,
   "id": "56b385fd-7b27-4037-b42a-dc84cf441735",
   "metadata": {},
   "outputs": [
    {
     "data": {
      "text/plain": [
       "True"
      ]
     },
     "execution_count": 12,
     "metadata": {},
     "output_type": "execute_result"
    }
   ],
   "source": [
    "2 >= 2"
   ]
  },
  {
   "cell_type": "code",
   "execution_count": 15,
   "id": "dbaa5481-6eb9-46b7-9f38-01ac3973da91",
   "metadata": {},
   "outputs": [
    {
     "data": {
      "text/plain": [
       "True"
      ]
     },
     "execution_count": 15,
     "metadata": {},
     "output_type": "execute_result"
    }
   ],
   "source": [
    "2 >= 1"
   ]
  },
  {
   "cell_type": "markdown",
   "id": "479d8c9d-ad46-4f08-bb53-9467b9f2319a",
   "metadata": {},
   "source": [
    "#### Menor ou igual que"
   ]
  },
  {
   "cell_type": "code",
   "execution_count": 16,
   "id": "d591fd8d-9c51-4639-ba13-2267be70066c",
   "metadata": {},
   "outputs": [
    {
     "data": {
      "text/plain": [
       "True"
      ]
     },
     "execution_count": 16,
     "metadata": {},
     "output_type": "execute_result"
    }
   ],
   "source": [
    "2 <= 3"
   ]
  },
  {
   "cell_type": "code",
   "execution_count": 17,
   "id": "b50a25fa-a23d-4a90-bf80-080127e4fda4",
   "metadata": {},
   "outputs": [
    {
     "data": {
      "text/plain": [
       "False"
      ]
     },
     "execution_count": 17,
     "metadata": {},
     "output_type": "execute_result"
    }
   ],
   "source": [
    "3 <= 1"
   ]
  }
 ],
 "metadata": {
  "kernelspec": {
   "display_name": "Python 3 (ipykernel)",
   "language": "python",
   "name": "python3"
  },
  "language_info": {
   "codemirror_mode": {
    "name": "ipython",
    "version": 3
   },
   "file_extension": ".py",
   "mimetype": "text/x-python",
   "name": "python",
   "nbconvert_exporter": "python",
   "pygments_lexer": "ipython3",
   "version": "3.10.9"
  }
 },
 "nbformat": 4,
 "nbformat_minor": 5
}
