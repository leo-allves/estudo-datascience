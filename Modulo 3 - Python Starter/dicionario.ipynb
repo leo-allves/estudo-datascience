{
 "cells": [
  {
   "cell_type": "markdown",
   "id": "96cddcb2-5ff6-4536-aa29-cc34189a94f2",
   "metadata": {},
   "source": [
    "### Dicionários"
   ]
  },
  {
   "cell_type": "markdown",
   "id": "ccee06e0-0b2e-4ed6-871b-3c3492e757fa",
   "metadata": {},
   "source": [
    "- Uma chave de um dicionário pode ser:\n",
    "    > 1 inteiro\n",
    "    > 1 float \n",
    "    > 1 string"
   ]
  },
  {
   "cell_type": "code",
   "execution_count": 3,
   "id": "fb6d44f5-f414-41d8-9b04-37224fc5bec4",
   "metadata": {},
   "outputs": [],
   "source": [
    "meu_dicionario = {\"nome\": \"Paulo\", \"idade\": 29, \"filhos\": [\"João\", \"Maria\"]}"
   ]
  },
  {
   "cell_type": "code",
   "execution_count": 4,
   "id": "c4d4040e-4059-4a08-99c9-e982561c2be7",
   "metadata": {},
   "outputs": [
    {
     "data": {
      "text/plain": [
       "{'nome': 'Paulo', 'idade': 29, 'filhos': ['João', 'Maria']}"
      ]
     },
     "execution_count": 4,
     "metadata": {},
     "output_type": "execute_result"
    }
   ],
   "source": [
    "meu_dicionario"
   ]
  },
  {
   "cell_type": "code",
   "execution_count": 6,
   "id": "c862b888-215c-409c-826b-fff4fcc33127",
   "metadata": {},
   "outputs": [
    {
     "data": {
      "text/plain": [
       "29"
      ]
     },
     "execution_count": 6,
     "metadata": {},
     "output_type": "execute_result"
    }
   ],
   "source": [
    "meu_dicionario[\"idade\"]"
   ]
  },
  {
   "cell_type": "code",
   "execution_count": 7,
   "id": "5fbac266-b231-4da7-84f9-e30ca7f4594e",
   "metadata": {},
   "outputs": [],
   "source": [
    "meu_dicionario[\"cidade\"] = \"São Paulo\""
   ]
  },
  {
   "cell_type": "code",
   "execution_count": 8,
   "id": "17a9acc7-5c2f-490e-b91f-4f00e12a4a08",
   "metadata": {},
   "outputs": [
    {
     "data": {
      "text/plain": [
       "{'nome': 'Paulo',\n",
       " 'idade': 29,\n",
       " 'filhos': ['João', 'Maria'],\n",
       " 'cidade': 'São Paulo'}"
      ]
     },
     "execution_count": 8,
     "metadata": {},
     "output_type": "execute_result"
    }
   ],
   "source": [
    "meu_dicionario"
   ]
  },
  {
   "cell_type": "code",
   "execution_count": 9,
   "id": "9976b26a-2ab2-4fd0-8c44-5dd76324f685",
   "metadata": {},
   "outputs": [],
   "source": [
    "meu_dicionario[\"variavel aleatoria\"] = {\"a\":1, \"b\":2}"
   ]
  },
  {
   "cell_type": "code",
   "execution_count": 11,
   "id": "724da638-bf89-4c20-be53-d92566625085",
   "metadata": {},
   "outputs": [
    {
     "data": {
      "text/plain": [
       "{'nome': 'Paulo',\n",
       " 'idade': 29,\n",
       " 'filhos': ['João', 'Maria'],\n",
       " 'cidade': 'São Paulo',\n",
       " 'variavel aleatoria': {'a': 1, 'b': 2}}"
      ]
     },
     "execution_count": 11,
     "metadata": {},
     "output_type": "execute_result"
    }
   ],
   "source": [
    "meu_dicionario"
   ]
  },
  {
   "cell_type": "code",
   "execution_count": 12,
   "id": "ec10513f-ab05-4e79-9e3d-d16e1c5ff538",
   "metadata": {},
   "outputs": [
    {
     "data": {
      "text/plain": [
       "dict_keys(['nome', 'idade', 'filhos', 'cidade', 'variavel aleatoria'])"
      ]
     },
     "execution_count": 12,
     "metadata": {},
     "output_type": "execute_result"
    }
   ],
   "source": [
    "meu_dicionario.keys()"
   ]
  },
  {
   "cell_type": "code",
   "execution_count": 13,
   "id": "bdf831f8-d7aa-4b90-aeb8-a4ab24119560",
   "metadata": {},
   "outputs": [
    {
     "data": {
      "text/plain": [
       "dict_values(['Paulo', 29, ['João', 'Maria'], 'São Paulo', {'a': 1, 'b': 2}])"
      ]
     },
     "execution_count": 13,
     "metadata": {},
     "output_type": "execute_result"
    }
   ],
   "source": [
    "meu_dicionario.values()"
   ]
  },
  {
   "cell_type": "code",
   "execution_count": 15,
   "id": "f661610a-5d64-4993-a082-51e44adbad25",
   "metadata": {},
   "outputs": [
    {
     "data": {
      "text/plain": [
       "dict_items([('nome', 'Paulo'), ('idade', 29), ('filhos', ['João', 'Maria']), ('cidade', 'São Paulo'), ('variavel aleatoria', {'a': 1, 'b': 2})])"
      ]
     },
     "execution_count": 15,
     "metadata": {},
     "output_type": "execute_result"
    }
   ],
   "source": [
    "meu_dicionario.items()"
   ]
  },
  {
   "cell_type": "code",
   "execution_count": null,
   "id": "c0ce0a26-f255-4563-9d6f-fc64aad2049d",
   "metadata": {},
   "outputs": [],
   "source": []
  }
 ],
 "metadata": {
  "kernelspec": {
   "display_name": "Python 3 (ipykernel)",
   "language": "python",
   "name": "python3"
  },
  "language_info": {
   "codemirror_mode": {
    "name": "ipython",
    "version": 3
   },
   "file_extension": ".py",
   "mimetype": "text/x-python",
   "name": "python",
   "nbconvert_exporter": "python",
   "pygments_lexer": "ipython3",
   "version": "3.10.9"
  }
 },
 "nbformat": 4,
 "nbformat_minor": 5
}
